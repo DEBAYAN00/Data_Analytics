{
 "cells": [
  {
   "cell_type": "code",
   "execution_count": 1,
   "id": "426cff4f",
   "metadata": {},
   "outputs": [],
   "source": [
    "import matplotlib.pyplot as plt\n",
    "import numpy as np\n",
    "import pandas as pd\n",
    "from sklearn.linear_model import LinearRegression\n",
    "from sklearn.model_selection import train_test_split\n",
    "import seaborn as sb"
   ]
  },
  {
   "cell_type": "code",
   "execution_count": 4,
   "id": "430de6ff",
   "metadata": {
    "scrolled": true
   },
   "outputs": [],
   "source": [
    "weather = pd.read_csv('fiveyearsweatherdata.csv')\n",
    "X = weather['Temperature']\n",
    "y = weather['Relative Humidity']"
   ]
  },
  {
   "cell_type": "code",
   "execution_count": 5,
   "id": "633df8cf",
   "metadata": {},
   "outputs": [
    {
     "data": {
      "text/plain": [
       "'19.9'"
      ]
     },
     "execution_count": 5,
     "metadata": {},
     "output_type": "execute_result"
    }
   ],
   "source": [
    "str(X[0])"
   ]
  },
  {
   "cell_type": "code",
   "execution_count": 7,
   "id": "c2ce4582",
   "metadata": {
    "scrolled": true
   },
   "outputs": [
    {
     "data": {
      "text/html": [
       "<div>\n",
       "<style scoped>\n",
       "    .dataframe tbody tr th:only-of-type {\n",
       "        vertical-align: middle;\n",
       "    }\n",
       "\n",
       "    .dataframe tbody tr th {\n",
       "        vertical-align: top;\n",
       "    }\n",
       "\n",
       "    .dataframe thead th {\n",
       "        text-align: right;\n",
       "    }\n",
       "</style>\n",
       "<table border=\"1\" class=\"dataframe\">\n",
       "  <thead>\n",
       "    <tr style=\"text-align: right;\">\n",
       "      <th></th>\n",
       "      <th>Address</th>\n",
       "      <th>Date</th>\n",
       "      <th>time</th>\n",
       "      <th>Maximum Temperature</th>\n",
       "      <th>Temperature</th>\n",
       "      <th>Dew Point</th>\n",
       "      <th>Relative Humidity</th>\n",
       "      <th>Heat Index</th>\n",
       "      <th>Wind Speed</th>\n",
       "      <th>Wind Gust</th>\n",
       "      <th>...</th>\n",
       "      <th>Visibility</th>\n",
       "      <th>Cloud Cover</th>\n",
       "      <th>Sea Level Pressure</th>\n",
       "      <th>Weather Type</th>\n",
       "      <th>Latitude</th>\n",
       "      <th>Longitude</th>\n",
       "      <th>Resolved Address</th>\n",
       "      <th>Name</th>\n",
       "      <th>Info</th>\n",
       "      <th>Conditions</th>\n",
       "    </tr>\n",
       "  </thead>\n",
       "  <tbody>\n",
       "    <tr>\n",
       "      <th>0</th>\n",
       "      <td>Kolkata,West Bengal,India</td>\n",
       "      <td>01-01-2017</td>\n",
       "      <td>NaN</td>\n",
       "      <td>25.3</td>\n",
       "      <td>19.9</td>\n",
       "      <td>16.5</td>\n",
       "      <td>82.47</td>\n",
       "      <td>NaN</td>\n",
       "      <td>5.8</td>\n",
       "      <td>NaN</td>\n",
       "      <td>...</td>\n",
       "      <td>1.2</td>\n",
       "      <td>4.9</td>\n",
       "      <td>1015.9</td>\n",
       "      <td>Mist, Fog, Smoke Or Haze</td>\n",
       "      <td>22.5705</td>\n",
       "      <td>88.3713</td>\n",
       "      <td>Kolkata, WB, India</td>\n",
       "      <td>Kolkata, WB, India</td>\n",
       "      <td>NaN</td>\n",
       "      <td>Clear</td>\n",
       "    </tr>\n",
       "    <tr>\n",
       "      <th>1</th>\n",
       "      <td>Kolkata,West Bengal,India</td>\n",
       "      <td>02-01-2017</td>\n",
       "      <td>NaN</td>\n",
       "      <td>26.0</td>\n",
       "      <td>20.6</td>\n",
       "      <td>16.0</td>\n",
       "      <td>76.76</td>\n",
       "      <td>NaN</td>\n",
       "      <td>8.1</td>\n",
       "      <td>NaN</td>\n",
       "      <td>...</td>\n",
       "      <td>1.4</td>\n",
       "      <td>0.3</td>\n",
       "      <td>1015.6</td>\n",
       "      <td>Mist, Fog, Smoke Or Haze</td>\n",
       "      <td>22.5705</td>\n",
       "      <td>88.3713</td>\n",
       "      <td>Kolkata, WB, India</td>\n",
       "      <td>Kolkata, WB, India</td>\n",
       "      <td>NaN</td>\n",
       "      <td>Clear</td>\n",
       "    </tr>\n",
       "    <tr>\n",
       "      <th>2</th>\n",
       "      <td>Kolkata,West Bengal,India</td>\n",
       "      <td>03-01-2017</td>\n",
       "      <td>NaN</td>\n",
       "      <td>27.0</td>\n",
       "      <td>21.1</td>\n",
       "      <td>15.6</td>\n",
       "      <td>73.12</td>\n",
       "      <td>27.3</td>\n",
       "      <td>9.2</td>\n",
       "      <td>NaN</td>\n",
       "      <td>...</td>\n",
       "      <td>1.6</td>\n",
       "      <td>10.7</td>\n",
       "      <td>1014.7</td>\n",
       "      <td>Mist, Smoke Or Haze</td>\n",
       "      <td>22.5705</td>\n",
       "      <td>88.3713</td>\n",
       "      <td>Kolkata, WB, India</td>\n",
       "      <td>Kolkata, WB, India</td>\n",
       "      <td>NaN</td>\n",
       "      <td>Clear</td>\n",
       "    </tr>\n",
       "    <tr>\n",
       "      <th>3</th>\n",
       "      <td>Kolkata,West Bengal,India</td>\n",
       "      <td>04-01-2017</td>\n",
       "      <td>NaN</td>\n",
       "      <td>25.0</td>\n",
       "      <td>19.9</td>\n",
       "      <td>14.5</td>\n",
       "      <td>72.57</td>\n",
       "      <td>NaN</td>\n",
       "      <td>8.1</td>\n",
       "      <td>NaN</td>\n",
       "      <td>...</td>\n",
       "      <td>1.8</td>\n",
       "      <td>2.3</td>\n",
       "      <td>1014.6</td>\n",
       "      <td>Mist, Smoke Or Haze</td>\n",
       "      <td>22.5705</td>\n",
       "      <td>88.3713</td>\n",
       "      <td>Kolkata, WB, India</td>\n",
       "      <td>Kolkata, WB, India</td>\n",
       "      <td>NaN</td>\n",
       "      <td>Clear</td>\n",
       "    </tr>\n",
       "    <tr>\n",
       "      <th>4</th>\n",
       "      <td>Kolkata,West Bengal,India</td>\n",
       "      <td>05-01-2017</td>\n",
       "      <td>NaN</td>\n",
       "      <td>25.6</td>\n",
       "      <td>19.6</td>\n",
       "      <td>13.7</td>\n",
       "      <td>71.88</td>\n",
       "      <td>NaN</td>\n",
       "      <td>8.1</td>\n",
       "      <td>NaN</td>\n",
       "      <td>...</td>\n",
       "      <td>1.9</td>\n",
       "      <td>0.0</td>\n",
       "      <td>1013.7</td>\n",
       "      <td>Mist, Smoke Or Haze</td>\n",
       "      <td>22.5705</td>\n",
       "      <td>88.3713</td>\n",
       "      <td>Kolkata, WB, India</td>\n",
       "      <td>Kolkata, WB, India</td>\n",
       "      <td>NaN</td>\n",
       "      <td>Clear</td>\n",
       "    </tr>\n",
       "  </tbody>\n",
       "</table>\n",
       "<p>5 rows × 25 columns</p>\n",
       "</div>"
      ],
      "text/plain": [
       "                     Address        Date  time  Maximum Temperature  \\\n",
       "0  Kolkata,West Bengal,India  01-01-2017   NaN                 25.3   \n",
       "1  Kolkata,West Bengal,India  02-01-2017   NaN                 26.0   \n",
       "2  Kolkata,West Bengal,India  03-01-2017   NaN                 27.0   \n",
       "3  Kolkata,West Bengal,India  04-01-2017   NaN                 25.0   \n",
       "4  Kolkata,West Bengal,India  05-01-2017   NaN                 25.6   \n",
       "\n",
       "   Temperature  Dew Point  Relative Humidity  Heat Index  Wind Speed  \\\n",
       "0         19.9       16.5              82.47         NaN         5.8   \n",
       "1         20.6       16.0              76.76         NaN         8.1   \n",
       "2         21.1       15.6              73.12        27.3         9.2   \n",
       "3         19.9       14.5              72.57         NaN         8.1   \n",
       "4         19.6       13.7              71.88         NaN         8.1   \n",
       "\n",
       "   Wind Gust  ...  Visibility  Cloud Cover  Sea Level Pressure  \\\n",
       "0        NaN  ...         1.2          4.9              1015.9   \n",
       "1        NaN  ...         1.4          0.3              1015.6   \n",
       "2        NaN  ...         1.6         10.7              1014.7   \n",
       "3        NaN  ...         1.8          2.3              1014.6   \n",
       "4        NaN  ...         1.9          0.0              1013.7   \n",
       "\n",
       "               Weather Type  Latitude  Longitude    Resolved Address  \\\n",
       "0  Mist, Fog, Smoke Or Haze   22.5705    88.3713  Kolkata, WB, India   \n",
       "1  Mist, Fog, Smoke Or Haze   22.5705    88.3713  Kolkata, WB, India   \n",
       "2       Mist, Smoke Or Haze   22.5705    88.3713  Kolkata, WB, India   \n",
       "3       Mist, Smoke Or Haze   22.5705    88.3713  Kolkata, WB, India   \n",
       "4       Mist, Smoke Or Haze   22.5705    88.3713  Kolkata, WB, India   \n",
       "\n",
       "                 Name Info  Conditions  \n",
       "0  Kolkata, WB, India  NaN       Clear  \n",
       "1  Kolkata, WB, India  NaN       Clear  \n",
       "2  Kolkata, WB, India  NaN       Clear  \n",
       "3  Kolkata, WB, India  NaN       Clear  \n",
       "4  Kolkata, WB, India  NaN       Clear  \n",
       "\n",
       "[5 rows x 25 columns]"
      ]
     },
     "execution_count": 7,
     "metadata": {},
     "output_type": "execute_result"
    }
   ],
   "source": [
    "weather.head()"
   ]
  },
  {
   "cell_type": "code",
   "execution_count": 8,
   "id": "27bdbfcc",
   "metadata": {},
   "outputs": [
    {
     "name": "stdout",
     "output_type": "stream",
     "text": [
      "<class 'pandas.core.frame.DataFrame'>\n",
      "RangeIndex: 1826 entries, 0 to 1825\n",
      "Data columns (total 25 columns):\n",
      " #   Column               Non-Null Count  Dtype  \n",
      "---  ------               --------------  -----  \n",
      " 0   Address              1826 non-null   object \n",
      " 1   Date                 1826 non-null   object \n",
      " 2   time                 0 non-null      float64\n",
      " 3   Maximum Temperature  1826 non-null   float64\n",
      " 4   Temperature          1826 non-null   float64\n",
      " 5   Dew Point            1826 non-null   float64\n",
      " 6   Relative Humidity    1826 non-null   float64\n",
      " 7   Heat Index           1538 non-null   float64\n",
      " 8   Wind Speed           1826 non-null   float64\n",
      " 9   Wind Gust            54 non-null     float64\n",
      " 10  Wind Direction       1826 non-null   float64\n",
      " 11  Wind Chill           13 non-null     float64\n",
      " 12  Precipitation        1826 non-null   float64\n",
      " 13  Precipitation Cover  1826 non-null   float64\n",
      " 14  Snow Depth           1826 non-null   int64  \n",
      " 15  Visibility           1826 non-null   float64\n",
      " 16  Cloud Cover          1826 non-null   float64\n",
      " 17  Sea Level Pressure   1825 non-null   float64\n",
      " 18  Weather Type         1825 non-null   object \n",
      " 19  Latitude             1826 non-null   float64\n",
      " 20  Longitude            1826 non-null   float64\n",
      " 21  Resolved Address     1826 non-null   object \n",
      " 22  Name                 1826 non-null   object \n",
      " 23  Info                 0 non-null      float64\n",
      " 24  Conditions           1826 non-null   object \n",
      "dtypes: float64(18), int64(1), object(6)\n",
      "memory usage: 356.8+ KB\n"
     ]
    }
   ],
   "source": [
    "weather.info()"
   ]
  },
  {
   "cell_type": "code",
   "execution_count": 9,
   "id": "77b582e6",
   "metadata": {
    "scrolled": true
   },
   "outputs": [
    {
     "data": {
      "text/html": [
       "<div>\n",
       "<style scoped>\n",
       "    .dataframe tbody tr th:only-of-type {\n",
       "        vertical-align: middle;\n",
       "    }\n",
       "\n",
       "    .dataframe tbody tr th {\n",
       "        vertical-align: top;\n",
       "    }\n",
       "\n",
       "    .dataframe thead th {\n",
       "        text-align: right;\n",
       "    }\n",
       "</style>\n",
       "<table border=\"1\" class=\"dataframe\">\n",
       "  <thead>\n",
       "    <tr style=\"text-align: right;\">\n",
       "      <th></th>\n",
       "      <th>time</th>\n",
       "      <th>Maximum Temperature</th>\n",
       "      <th>Temperature</th>\n",
       "      <th>Dew Point</th>\n",
       "      <th>Relative Humidity</th>\n",
       "      <th>Heat Index</th>\n",
       "      <th>Wind Speed</th>\n",
       "      <th>Wind Gust</th>\n",
       "      <th>Wind Direction</th>\n",
       "      <th>Wind Chill</th>\n",
       "      <th>Precipitation</th>\n",
       "      <th>Precipitation Cover</th>\n",
       "      <th>Snow Depth</th>\n",
       "      <th>Visibility</th>\n",
       "      <th>Cloud Cover</th>\n",
       "      <th>Sea Level Pressure</th>\n",
       "      <th>Latitude</th>\n",
       "      <th>Longitude</th>\n",
       "      <th>Info</th>\n",
       "    </tr>\n",
       "  </thead>\n",
       "  <tbody>\n",
       "    <tr>\n",
       "      <th>count</th>\n",
       "      <td>0.0</td>\n",
       "      <td>1826.000000</td>\n",
       "      <td>1826.000000</td>\n",
       "      <td>1826.000000</td>\n",
       "      <td>1826.000000</td>\n",
       "      <td>1538.000000</td>\n",
       "      <td>1826.000000</td>\n",
       "      <td>54.000000</td>\n",
       "      <td>1826.000000</td>\n",
       "      <td>13.000000</td>\n",
       "      <td>1826.000000</td>\n",
       "      <td>1826.000000</td>\n",
       "      <td>1826.0</td>\n",
       "      <td>1826.000000</td>\n",
       "      <td>1826.000000</td>\n",
       "      <td>1825.000000</td>\n",
       "      <td>1.826000e+03</td>\n",
       "      <td>1826.0000</td>\n",
       "      <td>0.0</td>\n",
       "    </tr>\n",
       "    <tr>\n",
       "      <th>mean</th>\n",
       "      <td>NaN</td>\n",
       "      <td>31.460022</td>\n",
       "      <td>26.628697</td>\n",
       "      <td>21.713527</td>\n",
       "      <td>76.602141</td>\n",
       "      <td>40.740182</td>\n",
       "      <td>11.097974</td>\n",
       "      <td>30.938889</td>\n",
       "      <td>151.183899</td>\n",
       "      <td>8.730769</td>\n",
       "      <td>4.650783</td>\n",
       "      <td>4.180986</td>\n",
       "      <td>0.0</td>\n",
       "      <td>2.019496</td>\n",
       "      <td>40.459693</td>\n",
       "      <td>1007.906411</td>\n",
       "      <td>2.257050e+01</td>\n",
       "      <td>88.3713</td>\n",
       "      <td>NaN</td>\n",
       "    </tr>\n",
       "    <tr>\n",
       "      <th>std</th>\n",
       "      <td>NaN</td>\n",
       "      <td>4.195294</td>\n",
       "      <td>4.473758</td>\n",
       "      <td>5.628949</td>\n",
       "      <td>10.552180</td>\n",
       "      <td>7.871842</td>\n",
       "      <td>6.294325</td>\n",
       "      <td>6.461772</td>\n",
       "      <td>51.267895</td>\n",
       "      <td>0.712255</td>\n",
       "      <td>13.994448</td>\n",
       "      <td>6.317213</td>\n",
       "      <td>0.0</td>\n",
       "      <td>0.316475</td>\n",
       "      <td>27.677867</td>\n",
       "      <td>6.050940</td>\n",
       "      <td>3.553687e-15</td>\n",
       "      <td>0.0000</td>\n",
       "      <td>NaN</td>\n",
       "    </tr>\n",
       "    <tr>\n",
       "      <th>min</th>\n",
       "      <td>NaN</td>\n",
       "      <td>18.000000</td>\n",
       "      <td>14.200000</td>\n",
       "      <td>5.800000</td>\n",
       "      <td>41.150000</td>\n",
       "      <td>26.300000</td>\n",
       "      <td>3.400000</td>\n",
       "      <td>20.800000</td>\n",
       "      <td>20.950000</td>\n",
       "      <td>7.600000</td>\n",
       "      <td>0.000000</td>\n",
       "      <td>0.000000</td>\n",
       "      <td>0.0</td>\n",
       "      <td>0.700000</td>\n",
       "      <td>0.000000</td>\n",
       "      <td>988.400000</td>\n",
       "      <td>2.257050e+01</td>\n",
       "      <td>88.3713</td>\n",
       "      <td>NaN</td>\n",
       "    </tr>\n",
       "    <tr>\n",
       "      <th>25%</th>\n",
       "      <td>NaN</td>\n",
       "      <td>29.000000</td>\n",
       "      <td>23.600000</td>\n",
       "      <td>17.100000</td>\n",
       "      <td>69.145000</td>\n",
       "      <td>34.100000</td>\n",
       "      <td>8.100000</td>\n",
       "      <td>26.725000</td>\n",
       "      <td>113.330000</td>\n",
       "      <td>7.900000</td>\n",
       "      <td>0.000000</td>\n",
       "      <td>0.000000</td>\n",
       "      <td>0.0</td>\n",
       "      <td>1.800000</td>\n",
       "      <td>14.325000</td>\n",
       "      <td>1003.100000</td>\n",
       "      <td>2.257050e+01</td>\n",
       "      <td>88.3713</td>\n",
       "      <td>NaN</td>\n",
       "    </tr>\n",
       "    <tr>\n",
       "      <th>50%</th>\n",
       "      <td>NaN</td>\n",
       "      <td>32.000000</td>\n",
       "      <td>28.200000</td>\n",
       "      <td>23.900000</td>\n",
       "      <td>77.410000</td>\n",
       "      <td>42.100000</td>\n",
       "      <td>10.300000</td>\n",
       "      <td>28.900000</td>\n",
       "      <td>153.810000</td>\n",
       "      <td>8.800000</td>\n",
       "      <td>0.000000</td>\n",
       "      <td>0.000000</td>\n",
       "      <td>0.0</td>\n",
       "      <td>2.100000</td>\n",
       "      <td>44.300000</td>\n",
       "      <td>1008.100000</td>\n",
       "      <td>2.257050e+01</td>\n",
       "      <td>88.3713</td>\n",
       "      <td>NaN</td>\n",
       "    </tr>\n",
       "    <tr>\n",
       "      <th>75%</th>\n",
       "      <td>NaN</td>\n",
       "      <td>35.000000</td>\n",
       "      <td>30.000000</td>\n",
       "      <td>26.500000</td>\n",
       "      <td>85.037500</td>\n",
       "      <td>46.700000</td>\n",
       "      <td>12.800000</td>\n",
       "      <td>34.400000</td>\n",
       "      <td>189.450000</td>\n",
       "      <td>9.100000</td>\n",
       "      <td>1.630000</td>\n",
       "      <td>8.330000</td>\n",
       "      <td>0.0</td>\n",
       "      <td>2.200000</td>\n",
       "      <td>62.600000</td>\n",
       "      <td>1013.100000</td>\n",
       "      <td>2.257050e+01</td>\n",
       "      <td>88.3713</td>\n",
       "      <td>NaN</td>\n",
       "    </tr>\n",
       "    <tr>\n",
       "      <th>max</th>\n",
       "      <td>NaN</td>\n",
       "      <td>41.000000</td>\n",
       "      <td>34.800000</td>\n",
       "      <td>30.100000</td>\n",
       "      <td>97.230000</td>\n",
       "      <td>61.200000</td>\n",
       "      <td>123.300000</td>\n",
       "      <td>55.300000</td>\n",
       "      <td>331.380000</td>\n",
       "      <td>9.600000</td>\n",
       "      <td>232.770000</td>\n",
       "      <td>34.780000</td>\n",
       "      <td>0.0</td>\n",
       "      <td>3.200000</td>\n",
       "      <td>100.000000</td>\n",
       "      <td>1019.700000</td>\n",
       "      <td>2.257050e+01</td>\n",
       "      <td>88.3713</td>\n",
       "      <td>NaN</td>\n",
       "    </tr>\n",
       "  </tbody>\n",
       "</table>\n",
       "</div>"
      ],
      "text/plain": [
       "       time  Maximum Temperature  Temperature    Dew Point  Relative Humidity  \\\n",
       "count   0.0          1826.000000  1826.000000  1826.000000        1826.000000   \n",
       "mean    NaN            31.460022    26.628697    21.713527          76.602141   \n",
       "std     NaN             4.195294     4.473758     5.628949          10.552180   \n",
       "min     NaN            18.000000    14.200000     5.800000          41.150000   \n",
       "25%     NaN            29.000000    23.600000    17.100000          69.145000   \n",
       "50%     NaN            32.000000    28.200000    23.900000          77.410000   \n",
       "75%     NaN            35.000000    30.000000    26.500000          85.037500   \n",
       "max     NaN            41.000000    34.800000    30.100000          97.230000   \n",
       "\n",
       "        Heat Index   Wind Speed  Wind Gust  Wind Direction  Wind Chill  \\\n",
       "count  1538.000000  1826.000000  54.000000     1826.000000   13.000000   \n",
       "mean     40.740182    11.097974  30.938889      151.183899    8.730769   \n",
       "std       7.871842     6.294325   6.461772       51.267895    0.712255   \n",
       "min      26.300000     3.400000  20.800000       20.950000    7.600000   \n",
       "25%      34.100000     8.100000  26.725000      113.330000    7.900000   \n",
       "50%      42.100000    10.300000  28.900000      153.810000    8.800000   \n",
       "75%      46.700000    12.800000  34.400000      189.450000    9.100000   \n",
       "max      61.200000   123.300000  55.300000      331.380000    9.600000   \n",
       "\n",
       "       Precipitation  Precipitation Cover  Snow Depth   Visibility  \\\n",
       "count    1826.000000          1826.000000      1826.0  1826.000000   \n",
       "mean        4.650783             4.180986         0.0     2.019496   \n",
       "std        13.994448             6.317213         0.0     0.316475   \n",
       "min         0.000000             0.000000         0.0     0.700000   \n",
       "25%         0.000000             0.000000         0.0     1.800000   \n",
       "50%         0.000000             0.000000         0.0     2.100000   \n",
       "75%         1.630000             8.330000         0.0     2.200000   \n",
       "max       232.770000            34.780000         0.0     3.200000   \n",
       "\n",
       "       Cloud Cover  Sea Level Pressure      Latitude  Longitude  Info  \n",
       "count  1826.000000         1825.000000  1.826000e+03  1826.0000   0.0  \n",
       "mean     40.459693         1007.906411  2.257050e+01    88.3713   NaN  \n",
       "std      27.677867            6.050940  3.553687e-15     0.0000   NaN  \n",
       "min       0.000000          988.400000  2.257050e+01    88.3713   NaN  \n",
       "25%      14.325000         1003.100000  2.257050e+01    88.3713   NaN  \n",
       "50%      44.300000         1008.100000  2.257050e+01    88.3713   NaN  \n",
       "75%      62.600000         1013.100000  2.257050e+01    88.3713   NaN  \n",
       "max     100.000000         1019.700000  2.257050e+01    88.3713   NaN  "
      ]
     },
     "execution_count": 9,
     "metadata": {},
     "output_type": "execute_result"
    }
   ],
   "source": [
    "weather.describe()"
   ]
  },
  {
   "cell_type": "code",
   "execution_count": 10,
   "id": "0849eb83",
   "metadata": {
    "scrolled": true
   },
   "outputs": [],
   "source": [
    "ax = np.array(X).reshape(-1,1)\n",
    "by = np.array(y).reshape(-1,1)"
   ]
  },
  {
   "cell_type": "code",
   "execution_count": 11,
   "id": "7f27f545",
   "metadata": {},
   "outputs": [],
   "source": [
    "ax_train,ax_test,by_train,by_test = train_test_split(ax,by,test_size=0.2,random_state=0)"
   ]
  },
  {
   "cell_type": "code",
   "execution_count": 12,
   "id": "0b7fb399",
   "metadata": {
    "scrolled": true
   },
   "outputs": [
    {
     "data": {
      "text/html": [
       "<style>#sk-container-id-1 {color: black;background-color: white;}#sk-container-id-1 pre{padding: 0;}#sk-container-id-1 div.sk-toggleable {background-color: white;}#sk-container-id-1 label.sk-toggleable__label {cursor: pointer;display: block;width: 100%;margin-bottom: 0;padding: 0.3em;box-sizing: border-box;text-align: center;}#sk-container-id-1 label.sk-toggleable__label-arrow:before {content: \"▸\";float: left;margin-right: 0.25em;color: #696969;}#sk-container-id-1 label.sk-toggleable__label-arrow:hover:before {color: black;}#sk-container-id-1 div.sk-estimator:hover label.sk-toggleable__label-arrow:before {color: black;}#sk-container-id-1 div.sk-toggleable__content {max-height: 0;max-width: 0;overflow: hidden;text-align: left;background-color: #f0f8ff;}#sk-container-id-1 div.sk-toggleable__content pre {margin: 0.2em;color: black;border-radius: 0.25em;background-color: #f0f8ff;}#sk-container-id-1 input.sk-toggleable__control:checked~div.sk-toggleable__content {max-height: 200px;max-width: 100%;overflow: auto;}#sk-container-id-1 input.sk-toggleable__control:checked~label.sk-toggleable__label-arrow:before {content: \"▾\";}#sk-container-id-1 div.sk-estimator input.sk-toggleable__control:checked~label.sk-toggleable__label {background-color: #d4ebff;}#sk-container-id-1 div.sk-label input.sk-toggleable__control:checked~label.sk-toggleable__label {background-color: #d4ebff;}#sk-container-id-1 input.sk-hidden--visually {border: 0;clip: rect(1px 1px 1px 1px);clip: rect(1px, 1px, 1px, 1px);height: 1px;margin: -1px;overflow: hidden;padding: 0;position: absolute;width: 1px;}#sk-container-id-1 div.sk-estimator {font-family: monospace;background-color: #f0f8ff;border: 1px dotted black;border-radius: 0.25em;box-sizing: border-box;margin-bottom: 0.5em;}#sk-container-id-1 div.sk-estimator:hover {background-color: #d4ebff;}#sk-container-id-1 div.sk-parallel-item::after {content: \"\";width: 100%;border-bottom: 1px solid gray;flex-grow: 1;}#sk-container-id-1 div.sk-label:hover label.sk-toggleable__label {background-color: #d4ebff;}#sk-container-id-1 div.sk-serial::before {content: \"\";position: absolute;border-left: 1px solid gray;box-sizing: border-box;top: 0;bottom: 0;left: 50%;z-index: 0;}#sk-container-id-1 div.sk-serial {display: flex;flex-direction: column;align-items: center;background-color: white;padding-right: 0.2em;padding-left: 0.2em;position: relative;}#sk-container-id-1 div.sk-item {position: relative;z-index: 1;}#sk-container-id-1 div.sk-parallel {display: flex;align-items: stretch;justify-content: center;background-color: white;position: relative;}#sk-container-id-1 div.sk-item::before, #sk-container-id-1 div.sk-parallel-item::before {content: \"\";position: absolute;border-left: 1px solid gray;box-sizing: border-box;top: 0;bottom: 0;left: 50%;z-index: -1;}#sk-container-id-1 div.sk-parallel-item {display: flex;flex-direction: column;z-index: 1;position: relative;background-color: white;}#sk-container-id-1 div.sk-parallel-item:first-child::after {align-self: flex-end;width: 50%;}#sk-container-id-1 div.sk-parallel-item:last-child::after {align-self: flex-start;width: 50%;}#sk-container-id-1 div.sk-parallel-item:only-child::after {width: 0;}#sk-container-id-1 div.sk-dashed-wrapped {border: 1px dashed gray;margin: 0 0.4em 0.5em 0.4em;box-sizing: border-box;padding-bottom: 0.4em;background-color: white;}#sk-container-id-1 div.sk-label label {font-family: monospace;font-weight: bold;display: inline-block;line-height: 1.2em;}#sk-container-id-1 div.sk-label-container {text-align: center;}#sk-container-id-1 div.sk-container {/* jupyter's `normalize.less` sets `[hidden] { display: none; }` but bootstrap.min.css set `[hidden] { display: none !important; }` so we also need the `!important` here to be able to override the default hidden behavior on the sphinx rendered scikit-learn.org. See: https://github.com/scikit-learn/scikit-learn/issues/21755 */display: inline-block !important;position: relative;}#sk-container-id-1 div.sk-text-repr-fallback {display: none;}</style><div id=\"sk-container-id-1\" class=\"sk-top-container\"><div class=\"sk-text-repr-fallback\"><pre>LinearRegression()</pre><b>In a Jupyter environment, please rerun this cell to show the HTML representation or trust the notebook. <br />On GitHub, the HTML representation is unable to render, please try loading this page with nbviewer.org.</b></div><div class=\"sk-container\" hidden><div class=\"sk-item\"><div class=\"sk-estimator sk-toggleable\"><input class=\"sk-toggleable__control sk-hidden--visually\" id=\"sk-estimator-id-1\" type=\"checkbox\" checked><label for=\"sk-estimator-id-1\" class=\"sk-toggleable__label sk-toggleable__label-arrow\">LinearRegression</label><div class=\"sk-toggleable__content\"><pre>LinearRegression()</pre></div></div></div></div></div>"
      ],
      "text/plain": [
       "LinearRegression()"
      ]
     },
     "execution_count": 12,
     "metadata": {},
     "output_type": "execute_result"
    }
   ],
   "source": [
    "mod = LinearRegression()\n",
    "mod.fit(ax_train,by_train)"
   ]
  },
  {
   "cell_type": "code",
   "execution_count": 13,
   "id": "c00a791f",
   "metadata": {},
   "outputs": [
    {
     "data": {
      "text/plain": [
       "array([[75.4236253]])"
      ]
     },
     "execution_count": 13,
     "metadata": {},
     "output_type": "execute_result"
    }
   ],
   "source": [
    "prediction = mod.predict([[25]])\n",
    "prediction"
   ]
  },
  {
   "cell_type": "code",
   "execution_count": 14,
   "id": "e52797d7",
   "metadata": {},
   "outputs": [
    {
     "data": {
      "text/plain": [
       "array([60.05546361])"
      ]
     },
     "execution_count": 14,
     "metadata": {},
     "output_type": "execute_result"
    }
   ],
   "source": [
    "b = mod.intercept_\n",
    "b"
   ]
  },
  {
   "cell_type": "code",
   "execution_count": 15,
   "id": "6aa7cfe9",
   "metadata": {},
   "outputs": [
    {
     "data": {
      "text/plain": [
       "array([[0.61472647]])"
      ]
     },
     "execution_count": 15,
     "metadata": {},
     "output_type": "execute_result"
    }
   ],
   "source": [
    "m = mod.coef_\n",
    "m"
   ]
  },
  {
   "cell_type": "code",
   "execution_count": 16,
   "id": "cec9e797",
   "metadata": {
    "scrolled": true
   },
   "outputs": [
    {
     "data": {
      "image/png": "[encoded data removed]",
      "text/plain": [
       "<Figure size 640x480 with 1 Axes>"
      ]
     },
     "metadata": {},
     "output_type": "display_data"
    }
   ],
   "source": [
    "#Scatter plot betwn. 'Acctual Relative Humidity'vs 'Predicted Relative Humidity'\n",
    "y_pred = m*ax_test + b\n",
    "plt.plot(y_pred,color='red')\n",
    "plt.plot(by_test)\n",
    "plt.xlim(0,100)\n",
    "plt.ylim(0,100)\n",
    "plt.show()"
   ]
  },
  {
   "cell_type": "code",
   "execution_count": 17,
   "id": "0f920860",
   "metadata": {},
   "outputs": [
    {
     "data": {
      "image/png": "[encoded data removed]",
      "text/plain": [
       "<Figure size 640x480 with 1 Axes>"
      ]
     },
     "metadata": {},
     "output_type": "display_data"
    }
   ],
   "source": [
    "#Scatter plot between 'Temparature(Test)' Vs 'Relative Humidity(Test)'\n",
    "plt.plot(ax_test,by_test,'o')\n",
    "\n",
    "#Regression Line\n",
    "y_pred = m*ax_test + b\n",
    "plt.plot(ax_test,y_pred,color='r')\n",
    "\n",
    "#scale\n",
    "plt.xlim(0,40)\n",
    "plt.xlabel(\"Temperature\")\n",
    "plt.ylim(0,100)\n",
    "plt.ylabel(\"Relative Humidity\")\n",
    "plt.show()"
   ]
  },
  {
   "cell_type": "code",
   "execution_count": 18,
   "id": "04af01a1",
   "metadata": {},
   "outputs": [
    {
     "data": {
      "image/png": "[encoded data removed]",
      "text/plain": [
       "<Figure size 640x480 with 1 Axes>"
      ]
     },
     "metadata": {},
     "output_type": "display_data"
    }
   ],
   "source": [
    "#Scatter plot between 'Temparature(Train)' Vs 'Relative Humidity(Train)'\n",
    "plt.plot(ax_train,by_train,'o')\n",
    "plt.xlim(0,100)\n",
    "plt.ylim(0,100)\n",
    "plt.show()"
   ]
  },
  {
   "cell_type": "code",
   "execution_count": null,
   "id": "f05d764d",
   "metadata": {},
   "outputs": [],
   "source": []
  }
 ],
 "metadata": {
  "kernelspec": {
   "display_name": "Python 3 (ipykernel)",
   "language": "python",
   "name": "python3"
  },
  "language_info": {
   "codemirror_mode": {
    "name": "ipython",
    "version": 3
   },
   "file_extension": ".py",
   "mimetype": "text/x-python",
   "name": "python",
   "nbconvert_exporter": "python",
   "pygments_lexer": "ipython3",
   "version": "3.10.5"
  }
 },
 "nbformat": 4,
 "nbformat_minor": 5
}
